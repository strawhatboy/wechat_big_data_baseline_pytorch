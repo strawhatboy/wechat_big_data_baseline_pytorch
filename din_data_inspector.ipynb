{
 "metadata": {
  "language_info": {
   "codemirror_mode": {
    "name": "ipython",
    "version": 3
   },
   "file_extension": ".py",
   "mimetype": "text/x-python",
   "name": "python",
   "nbconvert_exporter": "python",
   "pygments_lexer": "ipython3",
   "version": "3.8.10"
  },
  "orig_nbformat": 2,
  "kernelspec": {
   "name": "python3810jvsc74a57bd020adc91ba026dc5b6209a84b8ce00b906abd6f726fa8f33b3d1ba2812d4dbaa3",
   "display_name": "Python 3.8.10 64-bit ('cc3.8': conda)"
  },
  "metadata": {
   "interpreter": {
    "hash": "20adc91ba026dc5b6209a84b8ce00b906abd6f726fa8f33b3d1ba2812d4dbaa3"
   }
  }
 },
 "nbformat": 4,
 "nbformat_minor": 2,
 "cells": [
  {
   "cell_type": "code",
   "execution_count": 4,
   "metadata": {},
   "outputs": [
    {
     "output_type": "stream",
     "name": "stdout",
     "text": [
      "users count: 20000\n",
      "feed count: 96564\n",
      "feed count from feed_info: 106444\n",
      "feed count from test_a: 35157\n",
      "user count from test_a: 9757\n"
     ]
    },
    {
     "output_type": "execute_result",
     "data": {
      "text/plain": [
       "userid\n",
       "8     260\n",
       "12    659\n",
       "13    249\n",
       "25     64\n",
       "37    641\n",
       "Name: feedid, dtype: int64"
      ]
     },
     "metadata": {},
     "execution_count": 4
    }
   ],
   "source": [
    "import pandas as pd\n",
    "\n",
    "user_action = pd.read_csv('../data/wechat_algo_data1/user_action.csv')\n",
    "test_a = pd.read_csv('../data/wechat_algo_data1/test_a.csv')\n",
    "print('users count: {}'.format(user_action['userid'].nunique()))\n",
    "print('feed count: {}'.format(user_action['feedid'].nunique()))\n",
    "feed_info = pd.read_csv('../data/wechat_algo_data1/feed_info.csv', index_col='feedid')\n",
    "print('feed count from feed_info: {}'.format(feed_info.index.nunique()))\n",
    "print('feed count from test_a: {}'.format(test_a['feedid'].nunique()))\n",
    "print('user count from test_a: {}'.format(test_a['userid'].nunique()))\n",
    "print('authorid count')\n",
    "# print('')\n",
    "counts = user_action.groupby('userid').count()['feedid']\n",
    "counts.head()"
   ]
  },
  {
   "cell_type": "code",
   "execution_count": 9,
   "metadata": {},
   "outputs": [
    {
     "output_type": "execute_result",
     "data": {
      "text/plain": [
       "980"
      ]
     },
     "metadata": {},
     "execution_count": 9
    }
   ],
   "source": [
    "counts.max()"
   ]
  },
  {
   "cell_type": "code",
   "execution_count": 10,
   "metadata": {},
   "outputs": [
    {
     "output_type": "execute_result",
     "data": {
      "text/plain": [
       "array([ 1,  2,  3,  5,  6,  7,  8, 10, 11, 12, 13, 14,  4,  9])"
      ]
     },
     "metadata": {},
     "execution_count": 10
    }
   ],
   "source": [
    "user_action['date_'].unique()"
   ]
  },
  {
   "cell_type": "code",
   "execution_count": 21,
   "metadata": {},
   "outputs": [
    {
     "output_type": "execute_result",
     "data": {
      "text/plain": [
       "{8: feedid\n",
       " 71474      3556.0\n",
       " 11391      5012.0\n",
       " 62705         0.0\n",
       " 20064     14004.0\n",
       " 105148     8503.0\n",
       " 16270         0.0\n",
       " 65119         0.0\n",
       " 57272         0.0\n",
       " 74931         0.0\n",
       " 9964       9214.0\n",
       " 62801     15927.0\n",
       " 9435       5572.0\n",
       " 56616         0.0\n",
       " 79578         0.0\n",
       " 111406        0.0\n",
       " 24200      4671.0\n",
       " 112322    15891.0\n",
       " 61954         0.0\n",
       " 54863         0.0\n",
       " 51181      7912.0\n",
       " 75538      1570.0\n",
       " 31312         0.0\n",
       " 17647     15804.0\n",
       " 67531     15698.0\n",
       " 62702     14405.0\n",
       " 50964     16970.0\n",
       " 22704         0.0\n",
       " 33221         0.0\n",
       " 5057      16455.0\n",
       " 100996        0.0\n",
       " 49507      2597.0\n",
       " 84315     16330.0\n",
       " 78569         0.0\n",
       " 17863      7339.0\n",
       " 38411     16789.0\n",
       " 24071         0.0\n",
       " 40821         0.0\n",
       " 51791      9398.0\n",
       " Name: bgm_singer_id, dtype: float64}"
      ]
     },
     "metadata": {},
     "execution_count": 21
    }
   ],
   "source": [
    "users = user_action['userid'].unique()\n",
    "hist_bgm_song_ids = {}\n",
    "hist_bgm_singer_ids = {}\n",
    "hist_authorids = {}\n",
    "hist_videoplayseconds = {}\n",
    "for uid in users:\n",
    "    hist_interation = user_action[(user_action['userid'] == uid) & (user_action['like'] == 1)]['feedid']\n",
    "    hist_feed = feed_info.loc[hist_interation]\n",
    "    hist_bgm_song_ids[uid] = hist_feed['bgm_song_id'].fillna(0)\n",
    "    hist_bgm_singer_ids[uid] = hist_feed['bgm_singer_id'].fillna(0)\n",
    "    hist_authorids[uid] = hist_feed['authorid'].fillna(0)\n",
    "    hist_videoplayseconds[uid] = hist_feed['videoplayseconds'].fillna(0)\n",
    "    break\n",
    "\n",
    "hist_bgm_singer_ids\n",
    "\n"
   ]
  }
 ]
}